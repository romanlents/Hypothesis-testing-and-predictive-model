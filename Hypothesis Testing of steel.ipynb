{
 "cells": [
  {
   "cell_type": "code",
   "execution_count": 1,
   "metadata": {
    "_cell_guid": "b1076dfc-b9ad-4769-8c92-a6c4dae69d19",
    "_uuid": "8f2839f25d086af736a60e9eeb907d3b93b6e0e5"
   },
   "outputs": [],
   "source": [
    "import numpy as np\n",
    "import pandas as pd\n",
    "import matplotlib.pyplot as plt\n",
    "import seaborn as sns\n",
    "\n",
    "import os"
   ]
  },
  {
   "cell_type": "code",
   "execution_count": 506,
   "metadata": {
    "_cell_guid": "79c7e3d0-c299-4dcb-8224-4455121ee9b0",
    "_uuid": "d629ff2d2480ee46fbb7e2d37f6b5fab8052498a"
   },
   "outputs": [],
   "source": [
    "stat = pd.read_csv('Статистика за 2018 год.csv', sep = ';')"
   ]
  },
  {
   "cell_type": "code",
   "execution_count": 508,
   "metadata": {},
   "outputs": [],
   "source": [
    "stat.columns = ['number of steel details with defect', 'speed', 'type']"
   ]
  },
  {
   "cell_type": "code",
   "execution_count": 509,
   "metadata": {},
   "outputs": [
    {
     "name": "stdout",
     "output_type": "stream",
     "text": [
      "<class 'pandas.core.frame.DataFrame'>\n",
      "RangeIndex: 237 entries, 0 to 236\n",
      "Data columns (total 3 columns):\n",
      " #   Column                               Non-Null Count  Dtype  \n",
      "---  ------                               --------------  -----  \n",
      " 0   number of steel details with defect  237 non-null    int64  \n",
      " 1   speed                                237 non-null    float64\n",
      " 2   type                                 237 non-null    object \n",
      "dtypes: float64(1), int64(1), object(1)\n",
      "memory usage: 5.7+ KB\n"
     ]
    }
   ],
   "source": [
    "stat.info()"
   ]
  },
  {
   "cell_type": "markdown",
   "metadata": {},
   "source": [
    "## Quick EDA "
   ]
  },
  {
   "cell_type": "code",
   "execution_count": 510,
   "metadata": {},
   "outputs": [
    {
     "data": {
      "text/html": [
       "<div>\n",
       "<style scoped>\n",
       "    .dataframe tbody tr th:only-of-type {\n",
       "        vertical-align: middle;\n",
       "    }\n",
       "\n",
       "    .dataframe tbody tr th {\n",
       "        vertical-align: top;\n",
       "    }\n",
       "\n",
       "    .dataframe thead th {\n",
       "        text-align: right;\n",
       "    }\n",
       "</style>\n",
       "<table border=\"1\" class=\"dataframe\">\n",
       "  <thead>\n",
       "    <tr style=\"text-align: right;\">\n",
       "      <th></th>\n",
       "      <th>number of steel details with defect</th>\n",
       "      <th>speed</th>\n",
       "    </tr>\n",
       "  </thead>\n",
       "  <tbody>\n",
       "    <tr>\n",
       "      <th>count</th>\n",
       "      <td>237.000000</td>\n",
       "      <td>237.000000</td>\n",
       "    </tr>\n",
       "    <tr>\n",
       "      <th>mean</th>\n",
       "      <td>3.257384</td>\n",
       "      <td>4.509705</td>\n",
       "    </tr>\n",
       "    <tr>\n",
       "      <th>std</th>\n",
       "      <td>1.807821</td>\n",
       "      <td>0.696260</td>\n",
       "    </tr>\n",
       "    <tr>\n",
       "      <th>min</th>\n",
       "      <td>0.000000</td>\n",
       "      <td>2.500000</td>\n",
       "    </tr>\n",
       "    <tr>\n",
       "      <th>25%</th>\n",
       "      <td>2.000000</td>\n",
       "      <td>4.100000</td>\n",
       "    </tr>\n",
       "    <tr>\n",
       "      <th>50%</th>\n",
       "      <td>3.000000</td>\n",
       "      <td>4.600000</td>\n",
       "    </tr>\n",
       "    <tr>\n",
       "      <th>75%</th>\n",
       "      <td>4.000000</td>\n",
       "      <td>5.000000</td>\n",
       "    </tr>\n",
       "    <tr>\n",
       "      <th>max</th>\n",
       "      <td>8.000000</td>\n",
       "      <td>6.500000</td>\n",
       "    </tr>\n",
       "  </tbody>\n",
       "</table>\n",
       "</div>"
      ],
      "text/plain": [
       "       number of steel details with defect       speed\n",
       "count                           237.000000  237.000000\n",
       "mean                              3.257384    4.509705\n",
       "std                               1.807821    0.696260\n",
       "min                               0.000000    2.500000\n",
       "25%                               2.000000    4.100000\n",
       "50%                               3.000000    4.600000\n",
       "75%                               4.000000    5.000000\n",
       "max                               8.000000    6.500000"
      ]
     },
     "execution_count": 510,
     "metadata": {},
     "output_type": "execute_result"
    }
   ],
   "source": [
    "# look at some statistics\n",
    "stat.describe()"
   ]
  },
  {
   "cell_type": "code",
   "execution_count": 511,
   "metadata": {},
   "outputs": [
    {
     "data": {
      "text/plain": [
       "A    139\n",
       "B     98\n",
       "Name: type, dtype: int64"
      ]
     },
     "execution_count": 511,
     "metadata": {},
     "output_type": "execute_result"
    }
   ],
   "source": [
    "# check the number of events for each steel grade\n",
    "stat.type.value_counts()"
   ]
  },
  {
   "cell_type": "code",
   "execution_count": 512,
   "metadata": {},
   "outputs": [
    {
     "name": "stdout",
     "output_type": "stream",
     "text": [
      "Mean number of steel details: 3.257\n",
      "Mean number of steel details of Grade A: 3.180\n",
      "Mean number of steel details of Grade B: 3.367\n"
     ]
    }
   ],
   "source": [
    "# calculate the mean of steel details with defects for each steel grade\n",
    "print('Mean number of steel details: {:.3f}'.format(stat.mean()[0]))\n",
    "print('Mean number of steel details of Grade A: {:.3f}'.format(stat[stat['type'] == 'A'].mean()[0]))\n",
    "print('Mean number of steel details of Grade B: {:.3f}'.format(stat[stat['type'] == 'B'].mean()[0]))"
   ]
  },
  {
   "cell_type": "code",
   "execution_count": 513,
   "metadata": {},
   "outputs": [
    {
     "name": "stdout",
     "output_type": "stream",
     "text": [
      "Variance of steel details: 3.268\n",
      "Variance of steel details of Grade A: 3.569\n",
      "Variance of steel details of Grade B: 2.853\n"
     ]
    }
   ],
   "source": [
    "# calculate the variance of steel details with defects for each steel grade\n",
    "print('Variance of steel details: {:.3f}'.format(stat.var()[0]))\n",
    "print('Variance of steel details of Grade A: {:.3f}'.format(stat[stat['type'] == 'A'].var()[0]))\n",
    "print('Variance of steel details of Grade B: {:.3f}'.format(stat[stat['type'] == 'B'].var()[0]))"
   ]
  },
  {
   "cell_type": "code",
   "execution_count": 514,
   "metadata": {},
   "outputs": [
    {
     "data": {
      "image/png": "[encoded data removed]",
      "text/plain": [
       "<Figure size 720x360 with 1 Axes>"
      ]
     },
     "metadata": {
      "needs_background": "light"
     },
     "output_type": "display_data"
    }
   ],
   "source": [
    "# visualize the mean of steel details with defects for each type\n",
    "plt.figure(figsize = (10, 5))\n",
    "sns.barplot(x = 'type', y = 'number of steel details with defect', data = stat, estimator = np.mean)\n",
    "plt.title('Mean value of steel details with defect for Grade A and Grade B')\n",
    "plt.show()"
   ]
  },
  {
   "cell_type": "code",
   "execution_count": 515,
   "metadata": {},
   "outputs": [
    {
     "data": {
      "text/plain": [
       "Text(0.5, 1.0, 'Distribution of Grade A')"
      ]
     },
     "execution_count": 515,
     "metadata": {},
     "output_type": "execute_result"
    },
    {
     "data": {
      "image/png": "[encoded data removed]",
      "text/plain": [
       "<Figure size 432x288 with 1 Axes>"
      ]
     },
     "metadata": {
      "needs_background": "light"
     },
     "output_type": "display_data"
    }
   ],
   "source": [
    "# check the distribution of Grade A\n",
    "from scipy import stats\n",
    "sns.distplot(stat[stat['type'] == 'A']['number of steel details with defect'], color = 'red', label = 'Grade A', fit = stats.norm)\n",
    "plt.legend(loc = 'upper right')\n",
    "plt.title('Distribution of Grade A')"
   ]
  },
  {
   "cell_type": "code",
   "execution_count": 516,
   "metadata": {},
   "outputs": [
    {
     "data": {
      "text/plain": [
       "Text(0.5, 1.0, 'Distribution of Grade B')"
      ]
     },
     "execution_count": 516,
     "metadata": {},
     "output_type": "execute_result"
    },
    {
     "data": {
      "image/png": "[encoded data removed]",
      "text/plain": [
       "<Figure size 432x288 with 1 Axes>"
      ]
     },
     "metadata": {
      "needs_background": "light"
     },
     "output_type": "display_data"
    }
   ],
   "source": [
    "# check the distribution of Grade B\n",
    "sns.distplot(stat[stat['type'] == 'B']['number of steel details with defect'], color = 'blue', label = 'Grade B', fit = stats.norm)\n",
    "plt.legend(loc = 'upper right')\n",
    "plt.title('Distribution of Grade B')"
   ]
  },
  {
   "cell_type": "markdown",
   "metadata": {},
   "source": [
    "<h2> Approaches used for Hypothesis Tests"
   ]
  },
  {
   "cell_type": "markdown",
   "metadata": {},
   "source": [
    "I have decided to test hypopthesis using two approaches. The first one is using z-test for proportions. The second one is Chi-squared for validation of my first approach. "
   ]
  },
  {
   "cell_type": "markdown",
   "metadata": {},
   "source": [
    "<h2> Testing hypothesis using proportions"
   ]
  },
  {
   "cell_type": "markdown",
   "metadata": {},
   "source": [
    "<h3> Part 1"
   ]
  },
  {
   "cell_type": "markdown",
   "metadata": {},
   "source": [
    "<h5> State Null and Alternative hypothesis for testing proportions:\n",
    "\n",
    "***H$_{0}$*:** Proportion of steel details with defects > 3 for Grade A = Proportion of steel details with defects > 3 for grade B<br>***H$_{1}$*:** Proportion of steel details with defects > 3 for Grade A > Proportion of steel details with defects > 3 for Grade B\n",
    "    \n",
    "One-tailed test\n",
    "    \n",
    "Significance level = 0.05\n",
    "    \n",
    " "
   ]
  },
  {
   "cell_type": "code",
   "execution_count": 517,
   "metadata": {},
   "outputs": [
    {
     "name": "stdout",
     "output_type": "stream",
     "text": [
      "Proportion of steel details greater than 3 for Grade A is 0.3813 and Grade B is 0.4490\n",
      "Number of steel samples of Grade A is 139.0000 and Grade B is 98.0000\n"
     ]
    }
   ],
   "source": [
    "# create two separate dataframes for Grade A and Grade B\n",
    "s_A = stat[stat['type'] == 'A']\n",
    "s_B = stat[stat['type'] == 'B']\n",
    "\n",
    "# find proportions of steels details with defect which is greater than 3 for Grade A and Grade B\n",
    "p_A = len(s_A[s_A['number of steel details with defect'] > 3]) / len(s_A)\n",
    "p_B = len(s_B[s_B['number of steel details with defect'] > 3]) / len(s_B)\n",
    "print('Proportion of steel details greater than 3 for Grade A is {:.4f} and Grade B is {:.4f}'.format(p_A, p_B))\n",
    "\n",
    "# find number of samples of Grade A and Grade B\n",
    "n_A = len(s_A)\n",
    "n_B = len(s_B)\n",
    "print('Number of steel samples of Grade A is {:.4f} and Grade B is {:.4f}'.format(n_A, n_B))"
   ]
  },
  {
   "cell_type": "code",
   "execution_count": 519,
   "metadata": {},
   "outputs": [
    {
     "name": "stdout",
     "output_type": "stream",
     "text": [
      " A: type_A = 139 \t details_A = 53 \t prop = 0.381294964028777\n",
      " B: type_B = 98 \t details_B = 44 \t prop = 0.4489795918367347\n"
     ]
    },
    {
     "data": {
      "image/png": "[encoded data removed]",
      "text/plain": [
       "<Figure size 720x360 with 1 Axes>"
      ]
     },
     "metadata": {
      "needs_background": "light"
     },
     "output_type": "display_data"
    }
   ],
   "source": [
    "# create a graph with proportions for each steel grade\n",
    "type_A = n_A\n",
    "type_B = n_B\n",
    "details_with_3_or_more_defects_A = details_A = len(s_A[s_A['number of steel details with defect'] > 3])\n",
    "details_with_3_or_more_defects_B = details_B = len(s_B[s_B['number of steel details with defect'] > 3])\n",
    "\n",
    "print(' {}: type_A = {} \\t details_A = {} \\t prop = {}'\n",
    "      .format('A', type_A, details_A, details_A / type_A))\n",
    "\n",
    "print(' {}: type_B = {} \\t details_B = {} \\t prop = {}'\n",
    "      .format('B', type_B, details_B, details_B / type_B))\n",
    "\n",
    "\n",
    "fig, ax = plt.subplots(figsize = (10, 5))\n",
    "\n",
    "x = [0, 1]\n",
    "y = [details_A / type_A, details_B / type_B]\n",
    "ax.bar(x, y, align = 'center', width = 0.8)\n",
    "ax.set_xticks(x)\n",
    "ax.set_xticklabels(['Grade_A', 'Grade_B'])\n",
    "plt.xlim(- 0.5, 1.5)\n",
    "plt.ylim(0, 0.69)\n",
    "for xx, yy in zip(x, y):\n",
    "    ax.text(xx, yy * 0.7, '%0.2f%%' % (100 * yy),ha = 'center', va = 'bottom', fontdict = {'size': 15,'weight': 'bold','color': (0.9, 0.9, 0.9)})\n",
    "    plt.title('Proportions of steel details with defect > 3 for Grade A and Grade B', fontdict = {'size' : 16})"
   ]
  },
  {
   "cell_type": "markdown",
   "metadata": {},
   "source": [
    "<h4> Z-test of proportions using custom function"
   ]
  },
  {
   "cell_type": "code",
   "execution_count": 520,
   "metadata": {},
   "outputs": [
    {
     "name": "stdout",
     "output_type": "stream",
     "text": [
      " z-stat = -1.0436016837317679 \n",
      " p-value = 0.1483348567978996\n",
      " Accept Null Hypothesis\n"
     ]
    }
   ],
   "source": [
    "# create a function for z-test\n",
    "def ztest_proportion_two_samples(x1, n1, x2, n2):\n",
    "    p1 = x1 / n1\n",
    "    p2 = x2 / n2    \n",
    "\n",
    "    p = (x1 + x2) / (n1 + n2)\n",
    "    standard_error = p * (1 - p) * (1 / n1 + 1 / n2)\n",
    "    standard_error = np.sqrt(standard_error)\n",
    "    \n",
    "    z_stat = (p1 - p2) / standard_error\n",
    "    p_value = 1 - stats.norm.cdf(abs(z_stat))\n",
    "    return z_stat, p_value\n",
    "\n",
    "z_stat, p_value = ztest_proportion_two_samples(details_A, type_A, details_B, type_B)\n",
    "print(' z-stat = {z} \\n p-value = {p}'.format(z = z_stat, p = p_value))\n",
    "\n",
    "if p_value > 0.05:\n",
    "    print(' Accept Null Hypothesis')\n",
    "else:\n",
    "    print(' Reject Null Hypothesis')"
   ]
  },
  {
   "cell_type": "markdown",
   "metadata": {},
   "source": [
    "<h4> Z-test using statsmodels library"
   ]
  },
  {
   "cell_type": "code",
   "execution_count": 521,
   "metadata": {},
   "outputs": [
    {
     "name": "stdout",
     "output_type": "stream",
     "text": [
      " z-stat = -1.0436016837317679 \n",
      " p-value = 0.1483348567978996\n",
      " Accept Null Hypothesis\n"
     ]
    }
   ],
   "source": [
    "# using statsmodels library\n",
    "from statsmodels.stats.proportion import proportions_ztest\n",
    "count = np.array([details_A, details_B])\n",
    "nobs = np.array([type_A, type_B])\n",
    "z_test, p_value = proportions_ztest(count, nobs, value = 0, alternative = 'smaller')\n",
    "print(' z-stat = {z} \\n p-value = {p}'.format(z = z_test, p = p_value))\n",
    "\n",
    "if p_value > 0.05:\n",
    "    print(' Accept Null Hypothesis')\n",
    "else:\n",
    "    print(' Reject Null Hypothesis')"
   ]
  },
  {
   "cell_type": "markdown",
   "metadata": {},
   "source": [
    "<h4> Conclusion"
   ]
  },
  {
   "cell_type": "markdown",
   "metadata": {},
   "source": [
    "As calculated p-value is greater than significance level of 0.05 so we do not have enough evidence to reject the Null Hypothesis (H$_{0}$). We cannot conclude that more than 3 details with defects occur more often for steel Grade A than for steel Grade B. "
   ]
  },
  {
   "cell_type": "markdown",
   "metadata": {},
   "source": [
    "<h3> Part 2"
   ]
  },
  {
   "cell_type": "markdown",
   "metadata": {},
   "source": [
    "<h5> State Null and Alternative hypothesis for testing proportions:\n",
    "\n",
    "***H$_{0}$*:** Proportion of steel details with defects > 3 for speed of rolling  <= 4 m/s = Proportion of steel details with defects > 3 for speed of rolling  > 4 m/s<br>***H$_{1}$*:** Proportion of steel details with defects > 3 for speed of rolling > 4 m/s > Proportion of steel details with defects > 3 for speed of rolling  <= 4 m/s\n",
    "\n",
    "    \n",
    "One-tailed test\n",
    "    \n",
    "Significance level = 0.05"
   ]
  },
  {
   "cell_type": "code",
   "execution_count": 522,
   "metadata": {},
   "outputs": [
    {
     "name": "stdout",
     "output_type": "stream",
     "text": [
      "Proportion of steel details greater than 3 for speed of rolling <= 4 m/s is 0.3966 and for speed of rolling > 4 m/s is 0.4134\n",
      "Number of steel samples for speed of steel rolling <= 4 m/s is 58.0000 and for speed of steel rolling > 4 m/s is 179.0000\n"
     ]
    }
   ],
   "source": [
    "# create two separate dataframes for speed > 4 m/s and =< 4 m/s\n",
    "df_speed_less_or_equal_4 = stat[stat['speed'] <= 4]\n",
    "df_speed_greater_4 = stat[stat['speed'] > 4]\n",
    "\n",
    "# find proportions of steels details with defect which is greater than 3 for speed <= 4 m/s and > 4 m/s\n",
    "p_less_or_equal_4 = len(df_speed_less_or_equal_4[df_speed_less_or_equal_4['number of steel details with defect'] > 3]) / len(df_speed_less_or_equal_4)\n",
    "p_greater_4 = len(df_speed_greater_4[df_speed_greater_4['number of steel details with defect'] > 3]) / len(df_speed_greater_4)\n",
    "print('Proportion of steel details greater than 3 for speed of rolling <= 4 m/s is {:.4f} and for speed of rolling > 4 m/s is {:.4f}'.format(p_less_or_equal_4, p_greater_4))\n",
    "\n",
    "# find number of samples for speed of rolling <= 4 m/s and > 4 m/s\n",
    "n_less_or_equal_4 = len(df_speed_less_or_equal_4)\n",
    "n_greater_4 = len(df_speed_greater_4)\n",
    "print('Number of steel samples for speed of steel rolling <= 4 m/s is {:.4f} and for speed of steel rolling > 4 m/s is {:.4f}'.format(n_less_or_equal_4, n_greater_4))"
   ]
  },
  {
   "cell_type": "code",
   "execution_count": 523,
   "metadata": {},
   "outputs": [
    {
     "name": "stdout",
     "output_type": "stream",
     "text": [
      " <=4: speed_4 = 58 \t details_4 = 23 \t prop = 0.39655172413793105\n",
      " >4: speed_greater_4 = 179 \t details_greater_4 = 74 \t prop = 0.4134078212290503\n"
     ]
    },
    {
     "data": {
      "image/png": "[encoded data removed]",
      "text/plain": [
       "<Figure size 720x360 with 1 Axes>"
      ]
     },
     "metadata": {
      "needs_background": "light"
     },
     "output_type": "display_data"
    }
   ],
   "source": [
    "# create a graph with proportions for different speed of rolling\n",
    "speed_4 = n_less_or_equal_4\n",
    "speed_greater_4 = n_greater_4\n",
    "details_4 = len(df_speed_less_or_equal_4[df_speed_less_or_equal_4['number of steel details with defect'] > 3])\n",
    "details_greater_4 = len(df_speed_greater_4[df_speed_greater_4['number of steel details with defect'] > 3])\n",
    "\n",
    "print(' {}: speed_4 = {} \\t details_4 = {} \\t prop = {}'\n",
    "      .format('<=4', speed_4, details_4, details_4 / speed_4))\n",
    "\n",
    "print(' {}: speed_greater_4 = {} \\t details_greater_4 = {} \\t prop = {}'\n",
    "      .format('>4', speed_greater_4, details_greater_4, details_greater_4 / speed_greater_4))\n",
    "\n",
    "\n",
    "fig, ax = plt.subplots(figsize = (10, 5))\n",
    "\n",
    "x = [0,1]\n",
    "y = [details_4 / speed_4, details_greater_4 / speed_greater_4]\n",
    "ax.bar(x, y, align = 'center', width = 0.8)\n",
    "ax.set_xticks(x)\n",
    "ax.set_xticklabels(['<= 4 m/s', '>4 m/s'])\n",
    "plt.xlim(- .5,1.5)\n",
    "plt.ylim(0, .69)\n",
    "for xx, yy in zip(x, y):\n",
    "    ax.text(xx, yy * 0.7, '%0.2f%%'%(100 * yy),ha = 'center', va = 'bottom', fontdict = {'size': 15,'weight': 'bold','color': (0.9, 0.9, 0.9)})\n",
    "    plt.title('Proportions of steel details with defect > 3 for speed of rolling <= 4 m/s and >4 m/s', fontdict = {'size' : 16})"
   ]
  },
  {
   "cell_type": "markdown",
   "metadata": {},
   "source": [
    "<h4> Z-test of proportions using function"
   ]
  },
  {
   "cell_type": "code",
   "execution_count": 524,
   "metadata": {},
   "outputs": [
    {
     "name": "stdout",
     "output_type": "stream",
     "text": [
      " z-stat = -0.22689337982109553 \n",
      " p-value = 0.4102533249796604\n",
      " Accept Null Hypothesis\n"
     ]
    }
   ],
   "source": [
    "# create a function for z-test\n",
    "def ztest_proportion_two_samples(x1, n1, x2, n2):\n",
    "    p1 = x1 / n1\n",
    "    p2 = x2 / n2    \n",
    "\n",
    "    p = (x1 + x2) / (n1 + n2)\n",
    "    standard_error = p * (1 - p) * (1 / n1 + 1 / n2)\n",
    "    standard_error = np.sqrt(standard_error)\n",
    "    \n",
    "    z_stat = (p1 - p2) / standard_error\n",
    "    p_value = 1 - stats.norm.cdf(abs(z_stat))\n",
    "    return z_stat, p_value\n",
    "\n",
    "z_stat, p_value = ztest_proportion_two_samples(details_4, speed_4, details_greater_4, speed_greater_4)\n",
    "print(' z-stat = {z} \\n p-value = {p}'.format(z = z_stat, p = p_value))\n",
    "\n",
    "if p_value > 0.05:\n",
    "    print(' Accept Null Hypothesis')\n",
    "else:\n",
    "    print(' Reject Null Hypothesis')"
   ]
  },
  {
   "cell_type": "markdown",
   "metadata": {},
   "source": [
    "<h4> Z-test using statsmodels library"
   ]
  },
  {
   "cell_type": "code",
   "execution_count": 525,
   "metadata": {},
   "outputs": [
    {
     "name": "stdout",
     "output_type": "stream",
     "text": [
      " z-stat = -0.22689337982109553 \n",
      " p-value = 0.4102533249796604\n",
      " Accept Null Hypothesis\n"
     ]
    }
   ],
   "source": [
    "# using statsmodels library\n",
    "from statsmodels.stats.proportion import proportions_ztest\n",
    "count = np.array([details_4, details_greater_4])\n",
    "nobs = np.array([speed_4, speed_greater_4])\n",
    "z,p = proportions_ztest(count, nobs, value = 0, alternative = 'smaller')\n",
    "print(' z-stat = {z} \\n p-value = {p}'.format(z = z, p = p))\n",
    "\n",
    "if p_value > 0.05:\n",
    "    print(' Accept Null Hypothesis')\n",
    "else:\n",
    "    print(' Reject Null Hypothesis')"
   ]
  },
  {
   "cell_type": "markdown",
   "metadata": {},
   "source": [
    "<h4> Conclusion"
   ]
  },
  {
   "cell_type": "markdown",
   "metadata": {},
   "source": [
    "As calculated p-value is greater than significance level of 0.05 so we do not have enough evidence to reject the Null Hypothesis (H$_{0}$). We cannot conclude that more than 3 details with defects occur more often for speed of rolling greater than 4 m/s."
   ]
  },
  {
   "cell_type": "markdown",
   "metadata": {},
   "source": [
    "<h2> Testing hypothesis using Chi-squared"
   ]
  },
  {
   "cell_type": "markdown",
   "metadata": {},
   "source": [
    "<h3> Part 1"
   ]
  },
  {
   "cell_type": "markdown",
   "metadata": {},
   "source": [
    "<h5>State the Null and Alternative Hypothesis.<br>\n",
    "H$_{0}$: There is no any connection between the frequency of occurrences of steel details with defect for Grade A and Grade B.<br>\n",
    "H$_{1}$: There is a connection between the frequency of occurrences of steel details with defect for Grade A and Grade B."
   ]
  },
  {
   "cell_type": "markdown",
   "metadata": {},
   "source": [
    "Find the number of times (frequency) that number of defects is less than or equals to 3 and the number of defects is larger than 3 for steel Grade A and Grade B. "
   ]
  },
  {
   "cell_type": "code",
   "execution_count": 526,
   "metadata": {},
   "outputs": [],
   "source": [
    "# create frequency table for 2 types of steel grades\n",
    "frequency_table = pd.DataFrame(columns = ['>3', '<=3', 'total'], index = ['A', 'B', 'total'])"
   ]
  },
  {
   "cell_type": "code",
   "execution_count": 527,
   "metadata": {},
   "outputs": [],
   "source": [
    "# fill cells in the frequency table  \n",
    "frequency_table['<=3']['A'] = len(stat[(stat['type'] == 'A') & (stat['number of steel details with defect'] <= 3)]['number of steel details with defect'])\n",
    "frequency_table['<=3']['B'] = len(stat[(stat['type'] == 'B') & (stat['number of steel details with defect'] <= 3)]['number of steel details with defect'])\n",
    "\n",
    "frequency_table['>3']['A'] = len(stat[(stat['type'] == 'A') & (stat['number of steel details with defect'] > 3)]['number of steel details with defect'])\n",
    "frequency_table['>3']['B'] = len(stat[(stat['type'] == 'B') & (stat['number of steel details with defect'] > 3)]['number of steel details with defect'])\n",
    "\n",
    "frequency_table['<=3']['total'] = np.sum(frequency_table['<=3'])\n",
    "frequency_table['>3']['total'] = np.sum(frequency_table['>3'])\n",
    "\n",
    "frequency_table['total']['A'] = frequency_table['<=3'][0] + frequency_table['>3'][0]\n",
    "frequency_table['total']['B'] = frequency_table['<=3'][1] + frequency_table['>3'][1]\n",
    "\n",
    "frequency_table['total'][2] = np.sum(frequency_table['total'])"
   ]
  },
  {
   "cell_type": "code",
   "execution_count": 528,
   "metadata": {},
   "outputs": [
    {
     "data": {
      "text/html": [
       "<div>\n",
       "<style scoped>\n",
       "    .dataframe tbody tr th:only-of-type {\n",
       "        vertical-align: middle;\n",
       "    }\n",
       "\n",
       "    .dataframe tbody tr th {\n",
       "        vertical-align: top;\n",
       "    }\n",
       "\n",
       "    .dataframe thead th {\n",
       "        text-align: right;\n",
       "    }\n",
       "</style>\n",
       "<table border=\"1\" class=\"dataframe\">\n",
       "  <thead>\n",
       "    <tr style=\"text-align: right;\">\n",
       "      <th></th>\n",
       "      <th>&gt;3</th>\n",
       "      <th>&lt;=3</th>\n",
       "      <th>total</th>\n",
       "    </tr>\n",
       "  </thead>\n",
       "  <tbody>\n",
       "    <tr>\n",
       "      <th>A</th>\n",
       "      <td>53</td>\n",
       "      <td>86</td>\n",
       "      <td>139</td>\n",
       "    </tr>\n",
       "    <tr>\n",
       "      <th>B</th>\n",
       "      <td>44</td>\n",
       "      <td>54</td>\n",
       "      <td>98</td>\n",
       "    </tr>\n",
       "    <tr>\n",
       "      <th>total</th>\n",
       "      <td>97</td>\n",
       "      <td>140</td>\n",
       "      <td>237</td>\n",
       "    </tr>\n",
       "  </tbody>\n",
       "</table>\n",
       "</div>"
      ],
      "text/plain": [
       "       >3  <=3 total\n",
       "A      53   86   139\n",
       "B      44   54    98\n",
       "total  97  140   237"
      ]
     },
     "execution_count": 528,
     "metadata": {},
     "output_type": "execute_result"
    }
   ],
   "source": [
    "frequency_table"
   ]
  },
  {
   "cell_type": "code",
   "execution_count": 529,
   "metadata": {},
   "outputs": [],
   "source": [
    "from scipy.stats import chi2\n",
    "\n",
    "def chi_squared_test(frequency_table, alpha = 0.05):\n",
    "    \n",
    "    deg_freedom = (frequency_table.shape[0] - 2) * (frequency_table.shape[1] - 2)\n",
    "    print(\"Using {} degrees of freedom\".format(deg_freedom))\n",
    "    theta_hat = frequency_table['>3'].sum() / frequency_table['total'].sum()\n",
    "    theta = theta_hat        \n",
    "    \n",
    "    #calculcate crirical value \n",
    "    chi_critical = chi2.isf(alpha, deg_freedom)\n",
    "    \n",
    "    #calculated expected values\n",
    "    e_larger = frequency_table['total'] * theta\n",
    "    e_less = frequency_table['total'] * (1 - theta)\n",
    "    \n",
    "    #create copy of dataframe\n",
    "    df_test = frequency_table.copy()\n",
    "    df_test['e_larger'] = e_larger\n",
    "    df_test['e_less'] = e_less\n",
    "    \n",
    "    df_test['chi_larger'] = ((df_test['>3'] - df_test['e_larger'])**2  ) / df_test['e_larger'] \n",
    "    \n",
    "    df_test['chi_less'] = ((df_test['<=3'] - df_test['e_less'])**2 ) / df_test['e_less']\n",
    "    \n",
    "    chi_test = df_test['chi_larger'].sum() + df_test['chi_less'].sum()\n",
    "    \n",
    "    if chi_test > chi_critical:\n",
    "        print(\"Reject null hypothesis with {:.4f} > {:.4f}\".format(chi_test, chi_critical))\n",
    "    else:\n",
    "        print(\"Accept null hypothesis with {:.4f} < {:.4f}\".format(chi_test, chi_critical))\n",
    "    \n",
    "    return chi_test, df_test"
   ]
  },
  {
   "cell_type": "code",
   "execution_count": 530,
   "metadata": {},
   "outputs": [
    {
     "name": "stdout",
     "output_type": "stream",
     "text": [
      "Using 1 degrees of freedom\n",
      "Accept null hypothesis with 1.0891 < 3.8415\n"
     ]
    },
    {
     "data": {
      "text/plain": [
       "(1.0891044742877811,\n",
       "        >3  <=3 total e_larger   e_less chi_larger  chi_less\n",
       " A      53   86   139  56.8903  82.1097   0.266028  0.184319\n",
       " B      44   54    98  40.1097  57.8903   0.377325  0.261432\n",
       " total  97  140   237       97      140          0         0)"
      ]
     },
     "execution_count": 530,
     "metadata": {},
     "output_type": "execute_result"
    }
   ],
   "source": [
    "chi_squared_test(frequency_table)"
   ]
  },
  {
   "cell_type": "markdown",
   "metadata": {},
   "source": [
    "##### **Conclusion:**\n",
    "\n",
    "As calculated Chi-Squared value is equal to 1.0891 and its less than critical value of 3.8415 so we cannot reject the Null Hypothesis (H$_{0}$). We cannot conclude that there is a connection between frequency of occurrences and steel grades. "
   ]
  },
  {
   "cell_type": "markdown",
   "metadata": {},
   "source": [
    "<h3> Part 2"
   ]
  },
  {
   "cell_type": "markdown",
   "metadata": {},
   "source": [
    "<h5>State the Null and Alternative Hypothesis:\n",
    "\n",
    "***H$_{0}$*:** There is no any connection between speed of steel rolling and frequency of occurrences of steel details with defects.<br>\n",
    "***H$_{1}$*:** There is a connection between speed of steel rolling and frequency of occurrences of steel details with defects."
   ]
  },
  {
   "cell_type": "code",
   "execution_count": 531,
   "metadata": {},
   "outputs": [
    {
     "name": "stdout",
     "output_type": "stream",
     "text": [
      "Mean value of details with defects for speed of steel rolling <=4 m/s: 3.069\n",
      "Mean value of details with defects for speed of steel rolling >4 m/s: 3.318\n",
      "----------------------------------------------------------------------------------\n",
      "Variance of details with defects for speed of steel rolling <=4 m/s: 3.364\n",
      "Variance value of details with defects for speed of steel rolling >4 m/s: 3.241\n"
     ]
    }
   ],
   "source": [
    "# check the mean value of steel details with defects for less or equal to 4 m/s and more than 4 m/s \n",
    "print('Mean value of details with defects for speed of steel rolling <=4 m/s: {:.3f}'.format(stat[stat['speed'] <= 4].mean()[0]))\n",
    "print('Mean value of details with defects for speed of steel rolling >4 m/s: {:.3f}'.format(stat[stat['speed'] > 4].mean()[0]))\n",
    "\n",
    "print('----------------------------------------------------------------------------------')\n",
    "\n",
    "# check the variance value of steel details with defects for less or equal to 4 m/s and more than 4 m/s \n",
    "print('Variance of details with defects for speed of steel rolling <=4 m/s: {:.3f}'.format(stat[stat['speed'] <= 4].var()[0]))\n",
    "print('Variance value of details with defects for speed of steel rolling >4 m/s: {:.3f}'.format(stat[stat['speed'] > 4].var()[0]))"
   ]
  },
  {
   "cell_type": "code",
   "execution_count": 532,
   "metadata": {},
   "outputs": [],
   "source": [
    "# create the frequency table \n",
    "frequency_table_1 = pd.DataFrame(columns = ['>3', '<=3', 'total'], index = ['>4', '<=4', 'total'])"
   ]
  },
  {
   "cell_type": "code",
   "execution_count": 533,
   "metadata": {},
   "outputs": [
    {
     "data": {
      "text/html": [
       "<div>\n",
       "<style scoped>\n",
       "    .dataframe tbody tr th:only-of-type {\n",
       "        vertical-align: middle;\n",
       "    }\n",
       "\n",
       "    .dataframe tbody tr th {\n",
       "        vertical-align: top;\n",
       "    }\n",
       "\n",
       "    .dataframe thead th {\n",
       "        text-align: right;\n",
       "    }\n",
       "</style>\n",
       "<table border=\"1\" class=\"dataframe\">\n",
       "  <thead>\n",
       "    <tr style=\"text-align: right;\">\n",
       "      <th></th>\n",
       "      <th>&gt;3</th>\n",
       "      <th>&lt;=3</th>\n",
       "      <th>total</th>\n",
       "    </tr>\n",
       "  </thead>\n",
       "  <tbody>\n",
       "    <tr>\n",
       "      <th>&gt;4</th>\n",
       "      <td>NaN</td>\n",
       "      <td>NaN</td>\n",
       "      <td>NaN</td>\n",
       "    </tr>\n",
       "    <tr>\n",
       "      <th>&lt;=4</th>\n",
       "      <td>NaN</td>\n",
       "      <td>NaN</td>\n",
       "      <td>NaN</td>\n",
       "    </tr>\n",
       "    <tr>\n",
       "      <th>total</th>\n",
       "      <td>NaN</td>\n",
       "      <td>NaN</td>\n",
       "      <td>NaN</td>\n",
       "    </tr>\n",
       "  </tbody>\n",
       "</table>\n",
       "</div>"
      ],
      "text/plain": [
       "        >3  <=3 total\n",
       ">4     NaN  NaN   NaN\n",
       "<=4    NaN  NaN   NaN\n",
       "total  NaN  NaN   NaN"
      ]
     },
     "execution_count": 533,
     "metadata": {},
     "output_type": "execute_result"
    }
   ],
   "source": [
    "frequency_table_1"
   ]
  },
  {
   "cell_type": "code",
   "execution_count": 534,
   "metadata": {},
   "outputs": [],
   "source": [
    "# fill cells in the frequency table table \n",
    "frequency_table_1['>3']['>4'] = len(stat[(stat['speed'] > 4) & (stat['number of steel details with defect'] > 3)]['speed'])\n",
    "\n",
    "frequency_table_1['>3']['<=4'] = len(stat[(stat['speed'] > 4) & (stat['number of steel details with defect'] <= 3)]['speed'])\n",
    "\n",
    "frequency_table_1['<=3']['>4'] = len(stat[(stat['speed'] <= 4) & (stat['number of steel details with defect'] > 3)]['speed'])\n",
    "frequency_table_1['<=3']['<=4'] = len(stat[(stat['speed'] <= 4) & (stat['number of steel details with defect'] <= 3)]['speed'])\n",
    "\n",
    "frequency_table_1['>3']['total'] = np.sum(frequency_table_1['>3'])\n",
    "frequency_table_1['<=3']['total'] = np.sum(frequency_table_1['<=3'])\n",
    "\n",
    "frequency_table_1['total']['>4'] = frequency_table_1['>3'][0] + frequency_table_1['<=3'][0]\n",
    "frequency_table_1['total']['<=4'] = frequency_table_1['>3'][1] + frequency_table_1['<=3'][1]\n",
    "\n",
    "frequency_table_1['total'][2] = np.sum(frequency_table_1['total'])"
   ]
  },
  {
   "cell_type": "code",
   "execution_count": 535,
   "metadata": {},
   "outputs": [
    {
     "data": {
      "text/html": [
       "<div>\n",
       "<style scoped>\n",
       "    .dataframe tbody tr th:only-of-type {\n",
       "        vertical-align: middle;\n",
       "    }\n",
       "\n",
       "    .dataframe tbody tr th {\n",
       "        vertical-align: top;\n",
       "    }\n",
       "\n",
       "    .dataframe thead th {\n",
       "        text-align: right;\n",
       "    }\n",
       "</style>\n",
       "<table border=\"1\" class=\"dataframe\">\n",
       "  <thead>\n",
       "    <tr style=\"text-align: right;\">\n",
       "      <th></th>\n",
       "      <th>&gt;3</th>\n",
       "      <th>&lt;=3</th>\n",
       "      <th>total</th>\n",
       "    </tr>\n",
       "  </thead>\n",
       "  <tbody>\n",
       "    <tr>\n",
       "      <th>&gt;4</th>\n",
       "      <td>74</td>\n",
       "      <td>23</td>\n",
       "      <td>97</td>\n",
       "    </tr>\n",
       "    <tr>\n",
       "      <th>&lt;=4</th>\n",
       "      <td>105</td>\n",
       "      <td>35</td>\n",
       "      <td>140</td>\n",
       "    </tr>\n",
       "    <tr>\n",
       "      <th>total</th>\n",
       "      <td>179</td>\n",
       "      <td>58</td>\n",
       "      <td>237</td>\n",
       "    </tr>\n",
       "  </tbody>\n",
       "</table>\n",
       "</div>"
      ],
      "text/plain": [
       "        >3 <=3 total\n",
       ">4      74  23    97\n",
       "<=4    105  35   140\n",
       "total  179  58   237"
      ]
     },
     "execution_count": 535,
     "metadata": {},
     "output_type": "execute_result"
    }
   ],
   "source": [
    "frequency_table_1"
   ]
  },
  {
   "cell_type": "code",
   "execution_count": 536,
   "metadata": {},
   "outputs": [],
   "source": [
    "from scipy.stats import chi2\n",
    "\n",
    "def chi_squared_test(frequency_table, alpha = 0.05):\n",
    "    \n",
    "    deg_freedom = (frequency_table.shape[0] - 2) * (frequency_table.shape[1] - 2)\n",
    "    print(\"Using {} degrees of freedom\".format(deg_freedom))\n",
    "    theta_hat = frequency_table['>3'].sum() / frequency_table['total'].sum()\n",
    "    theta = theta_hat        \n",
    "    \n",
    "    #calculcate cutoff\n",
    "    chi_critical = chi2.isf(alpha, deg_freedom)\n",
    "    \n",
    "    #calculated expected values:\n",
    "    e_larger = frequency_table['total'] * theta\n",
    "    e_less = frequency_table['total'] * (1 - theta)\n",
    "    \n",
    "    #create copy of dataframe\n",
    "    df_test = frequency_table.copy()\n",
    "    df_test['e_larger'] = e_larger\n",
    "    df_test['e_less'] = e_less\n",
    "    \n",
    "    df_test['chi_larger'] = ((df_test['>3'] - df_test['e_larger'])**2  ) / df_test['e_larger'] \n",
    "    \n",
    "    df_test['chi_less'] = ((df_test['<=3'] - df_test['e_less'])**2 ) / df_test['e_less']\n",
    "    \n",
    "    chi_test = df_test['chi_larger'].sum() + df_test['chi_less'].sum()\n",
    "    \n",
    "    if chi_test > chi_critical:\n",
    "        print(\"Reject null hypothesis with {:.4f} > {:.4f}\".format(chi_test, chi_critical))\n",
    "    else:\n",
    "        print(\"Accept null hypothesis with {:.4f} < {:.4f}\".format(chi_test, chi_critical))\n",
    "    \n",
    "    return chi_test, df_test"
   ]
  },
  {
   "cell_type": "code",
   "execution_count": 537,
   "metadata": {},
   "outputs": [
    {
     "name": "stdout",
     "output_type": "stream",
     "text": [
      "Using 1 degrees of freedom\n",
      "Accept null hypothesis with 0.0515 < 3.8415\n"
     ]
    },
    {
     "data": {
      "text/plain": [
       "(0.05148060580663982,\n",
       "         >3 <=3 total e_larger   e_less  chi_larger   chi_less\n",
       " >4      74  23    97  73.2616  23.7384  0.00744223  0.0229683\n",
       " <=4    105  35   140  105.738  34.2616   0.0051564  0.0159137\n",
       " total  179  58   237      179       58           0          0)"
      ]
     },
     "execution_count": 537,
     "metadata": {},
     "output_type": "execute_result"
    }
   ],
   "source": [
    "chi_squared_test(frequency_table_1)"
   ]
  },
  {
   "cell_type": "markdown",
   "metadata": {},
   "source": [
    "##### **Conclusion:**\n",
    "\n",
    "As calculated Chi-Squared value is equal to 0.0515 and its less than critical value of 3.8415 so we scannot reject the Null Hypothesis (H$_{0}$). We cannot conclude that there is a connection between speed of steel rolling and the freqency of occurrences of steel details with defects. "
   ]
  }
 ],
 "metadata": {
  "kernelspec": {
   "display_name": "Python 3",
   "language": "python",
   "name": "python3"
  },
  "language_info": {
   "codemirror_mode": {
    "name": "ipython",
    "version": 3
   },
   "file_extension": ".py",
   "mimetype": "text/x-python",
   "name": "python",
   "nbconvert_exporter": "python",
   "pygments_lexer": "ipython3",
   "version": "3.7.6"
  }
 },
 "nbformat": 4,
 "nbformat_minor": 4
}
